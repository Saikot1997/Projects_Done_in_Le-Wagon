{
 "cells": [
  {
   "attachments": {},
   "cell_type": "markdown",
   "metadata": {},
   "source": [
    "# CEO-Request Challenge"
   ]
  },
  {
   "attachments": {},
   "cell_type": "markdown",
   "metadata": {},
   "source": [
    "## 1. Summary of Problem Statement"
   ]
  },
  {
   "attachments": {},
   "cell_type": "markdown",
   "metadata": {},
   "source": [
    "❓ **How could Olist improve its profit** ❓"
   ]
  },
  {
   "attachments": {},
   "cell_type": "markdown",
   "metadata": {},
   "source": [
    "#### Revenues  \n",
    "**Sales fees:** Olist takes a **10% cut** on the product price (excl. freight) of each order delivered  \n",
    "**Subscription fees:** Olist charges **80 BRL by month** per seller\n",
    "\n",
    "#### Costs\n",
    "**Reputation costs** *estimated* per order with bad reviews (<= 3 stars)  \n",
    "\n",
    "💡 In the long term, bad customer experience has business implications: low repeat rate, immediate customer support cost, refunds or unfavorable word of mouth communication. We will assume that we have an estimate measure of the monetary cost for each bad review:\n",
    "```python\n",
    "# review_score: cost(BRL)\n",
    "{'1 star': 100\n",
    "'2 stars': 50\n",
    "'3 stars': 40\n",
    "'4 stars': 0\n",
    "'5 stars': 0}\n",
    "```\n",
    "\n",
    "**IT costs:** Olist's **total cumulated IT Costs** scale with the square root of the total number of sellers that has ever join the platform, as well as the square root of the total cumulated number of products that was ever sold.  \n",
    "\n",
    "$IT\\_costs = \\alpha * \\sqrt{n\\_sellers} + \\beta * \\sqrt{n\\_products}$  \n",
    "Olist's data team gave us the following values for these scaling parameters:\n",
    "- $\\alpha = 3157.27$\n",
    "- $\\beta = 978.23$\n",
    "\n",
    "💡 Both number of sellers to manage and sales transaction are costly for IT systems.  \n",
    "💡 Yet square roots reflect scale-effects: IT-system are often more efficient as they grow bigger.  \n",
    "💡 Alpha > Beta means that \"Olist has a lower IT Cost with few sellers selling a lot of products rather than the opposite  \n",
    "- with **1000 sellers** and a total of **100 products** sold, the total IT cost accumulates to 109,624 BRL\n",
    "- with **100 sellers** and a total of **1000 products** sold, the total IT cost accumulates to 62,507 BRL\n",
    "\n",
    "Finally, The IT department also told you that since the birth of the marketplace, cumulated IT costs have amounted to **500,000 BRL**."
   ]
  },
  {
   "attachments": {},
   "cell_type": "markdown",
   "metadata": {},
   "source": [
    "### Key Findings, so far"
   ]
  },
  {
   "attachments": {},
   "cell_type": "markdown",
   "metadata": {},
   "source": [
    "- `wait_time` is the most significant factor behind low review scores  \n",
    "- `wait_time` is made up of seller's `delay_to_carrier` + `carrier_delivery_time`.  \n",
    "- The latter being outside of Olist's direct control, improving it is not a quick-win recommendation\n",
    "- On the contrary, a better selection of `sellers` can positively impact the `delay_to_carrier` and reduce the number of bad `review_scores` on Olist.\n",
    "- Comments of the bad reviews showed that some were linked to the seller or to the product itself."
   ]
  },
  {
   "attachments": {},
   "cell_type": "markdown",
   "metadata": {},
   "source": [
    "💡 We recommend you to start with the the guided seller analysis in part 2 below  \n",
    "💪 But feel free to investigate into other hypothesis instead with part 3"
   ]
  },
  {
   "attachments": {},
   "cell_type": "markdown",
   "metadata": {},
   "source": [
    "## 2. Should Olist remove under-performing sellers from its marketplace? 🕵🏻\n",
    "*(recommended)*"
   ]
  },
  {
   "attachments": {},
   "cell_type": "markdown",
   "metadata": {},
   "source": [
    "To analyze the impact of removing the worse sellers from Olist's marketplace, we will perform a **what-if analysis**\n",
    "\n",
    "👉 **What would have happened if Olist had never accepted these sellers in the first place?**  \n",
    "\n",
    "*(In practice, it's hard to know in advance who is a good seller, but let's start with this approach and iterate later).*"
   ]
  },
  {
   "attachments": {},
   "cell_type": "markdown",
   "metadata": {},
   "source": [
    "### 2.1 Data Preparation"
   ]
  },
  {
   "attachments": {},
   "cell_type": "markdown",
   "metadata": {},
   "source": [
    "Compute, for each `seller_id`, and cumulated since the beginning:\n",
    "- the `revenues` it brings\n",
    "- the `review_costs` associated with all its bad reviews\n",
    "- the resulting `profits` (revenues - costs)\n",
    "\n",
    "👉 Write down a step-by-step strategy to create the DataFrame you need\n",
    "\n",
    "\n",
    "⚠️ Don't start from scratch, update your existing package 😉\n",
    "\n",
    "Starting from the `Seller` class of your `olist` package:\n",
    "\n",
    "Edit the `get_training_data` method so that the DataFrame it returns contains the fields:\n",
    "- `revenues`: sum of subscription and sales fees revenues\n",
    "- `cost_of_reviews`: sum of costs associated with bad reviews\n",
    "- `profits`: `revenues` - `cost_of_reviews`"
   ]
  },
  {
   "attachments": {},
   "cell_type": "markdown",
   "metadata": {},
   "source": [
    "### 2.2 What-if Analysis"
   ]
  },
  {
   "attachments": {},
   "cell_type": "markdown",
   "metadata": {},
   "source": [
    "👉 Time to perform the actual analysis, here are our steps:  \n",
    "\n",
    "1️⃣ Create a method that will help us update the IT Costs after removing sellers along with the products they sold\n",
    "\n",
    "2️⃣ Sort sellers by increasing profits\n",
    "\n",
    "3️⃣ Remove sellers one by one, starting from the one with the lowest profit.\n",
    "- For each number of sellers to remove, compute the financial impact on Olist global profits.\n",
    "\n",
    "4️⃣ Find an optimal number of sellers to remove that maximizes either Olist's profit margin or profit."
   ]
  },
  {
   "cell_type": "code",
   "execution_count": 1,
   "metadata": {},
   "outputs": [],
   "source": [
    "from olist.data import Olist\n",
    "from olist.order import Order\n",
    "from olist.seller import Seller\n",
    "from olist.analysis import OlistAnalysis\n",
    "import pandas as pd\n",
    "import numpy as np\n",
    "import seaborn as sns\n",
    "import statsmodels.api as sm\n",
    "import statsmodels.formula.api as smf\n",
    "import matplotlib.pyplot as plt\n"
   ]
  },
  {
   "cell_type": "code",
   "execution_count": 13,
   "metadata": {},
   "outputs": [
    {
     "data": {
      "text/plain": [
       "seller_id\n",
       "7c67e1448b00f6e969d365cea6b010ab   -14027.772\n",
       "1f50f920176fa81dab994f9023523100   -13777.928\n",
       "a1043bafd471dff536d0c462352beb48   -11463.858\n",
       "8b321bb669392f5163d04c59e235e066   -10649.222\n",
       "ea8482cd71df3c1969d7b9473ff13abc   -10109.266\n",
       "                                      ...    \n",
       "7d13fca15225358621be4086e1eb0964    14093.744\n",
       "4869f7a5dfa277a7dca6462dcf3b52b2    25726.456\n",
       "fa1c13f2614d7b5c4749cbc52fecda94    28765.706\n",
       "7e93a43ef30c4f03f38b393420bc753a    28964.194\n",
       "53243585a1d6dc2643021fd1853d8905    31474.580\n",
       "Length: 3095, dtype: float64"
      ]
     },
     "execution_count": 13,
     "metadata": {},
     "output_type": "execute_result"
    }
   ],
   "source": [
    "# Step 1: Compute profits per seller\n",
    "order = Olist().get_data()\n",
    "num_orders = order['order_items'].groupby('seller_id')['order_id'].nunique()\n",
    "revenue = order['order_items'].groupby('seller_id')['price'].sum()\n",
    "freight_cost = order['order_items'].groupby('seller_id')['freight_value'].sum()\n",
    "sales_by_seller = pd.concat([num_orders, revenue, freight_cost], axis=1)\n",
    "sales_by_seller.columns = ['num_orders', 'revenue', 'freight_cost']\n",
    "profit_by_seller = sales_by_seller['revenue'] - (sales_by_seller['revenue'] * 0.8 + sales_by_seller['freight_cost'])\n",
    "\n",
    "# Step 2: Sort sellers by increasing profits\n",
    "sorted_sellers = profit_by_seller.sort_values(ascending=True)\n",
    "sorted_sellers\n"
   ]
  },
  {
   "cell_type": "code",
   "execution_count": 17,
   "metadata": {},
   "outputs": [
    {
     "data": {
      "text/plain": [
       "[480446.9719999994,\n",
       " 480197.12799999944,\n",
       " 477883.0579999994,\n",
       " 477068.42199999944,\n",
       " 476528.46599999943,\n",
       " 473823.02999999945,\n",
       " 472517.6299999994,\n",
       " 471950.4919999994,\n",
       " 471768.2959999994,\n",
       " 471278.6999999995,\n",
       " 471230.50599999947,\n",
       " 470276.64999999944,\n",
       " 470257.33399999945,\n",
       " 470053.5139999994,\n",
       " 470017.01399999944,\n",
       " 469869.8699999994,\n",
       " 469719.1739999994,\n",
       " 469661.9139999994,\n",
       " 469560.7539999995,\n",
       " 468961.4999999994,\n",
       " 468886.3359999994,\n",
       " 468868.27999999945,\n",
       " 468677.96599999943,\n",
       " 468652.97999999946,\n",
       " 468640.46999999945,\n",
       " 468619.6899999995,\n",
       " 468545.8699999994,\n",
       " 468492.30799999944,\n",
       " 468282.2739999994,\n",
       " 468245.79999999946,\n",
       " 468238.0239999994,\n",
       " 468211.34399999946,\n",
       " 468183.0439999994,\n",
       " 468049.31599999947,\n",
       " 468019.6119999994,\n",
       " 468017.3599999994,\n",
       " 468011.54999999946,\n",
       " 467988.6219999994,\n",
       " 467982.45999999944,\n",
       " 467981.46599999943,\n",
       " 467946.8499999994,\n",
       " 467941.4059999994,\n",
       " 467926.3199999995,\n",
       " 467912.3499999994,\n",
       " 467898.3159999994,\n",
       " 467846.94799999945,\n",
       " 467843.26799999946,\n",
       " 467831.38399999944,\n",
       " 467787.34399999946,\n",
       " 467777.62799999944,\n",
       " 467774.76799999946,\n",
       " 467772.6339999994,\n",
       " 467738.9259999994,\n",
       " 467728.35999999946,\n",
       " 467708.4079999995,\n",
       " 467690.92199999944,\n",
       " 467689.63999999943,\n",
       " 467689.3399999994,\n",
       " 467676.22399999946,\n",
       " 467612.8199999995,\n",
       " 467610.9119999994,\n",
       " 467607.9619999995,\n",
       " 467598.29999999946,\n",
       " 467577.0559999994,\n",
       " 467544.1459999995,\n",
       " 467544.1119999994,\n",
       " 467540.75799999945,\n",
       " 467532.0219999994,\n",
       " 467497.35399999947,\n",
       " 467496.4279999994,\n",
       " 467484.3739999994,\n",
       " 467476.98799999943,\n",
       " 467471.77399999945,\n",
       " 467469.74599999946,\n",
       " 467464.82999999943,\n",
       " 467459.5999999994,\n",
       " 467453.20199999947,\n",
       " 467450.74799999944,\n",
       " 467450.18199999945,\n",
       " 467440.4799999994,\n",
       " 467438.4559999994,\n",
       " 467437.13199999946,\n",
       " 467428.2839999994,\n",
       " 467418.97599999944,\n",
       " 467418.33399999945,\n",
       " 467412.9919999994,\n",
       " 467406.95399999944,\n",
       " 467405.2399999994,\n",
       " 467402.7499999994,\n",
       " 467393.3959999994,\n",
       " 467389.92999999947,\n",
       " 467384.75799999945,\n",
       " 467364.95199999947,\n",
       " 467345.6639999994,\n",
       " 467338.02999999945,\n",
       " 467337.9139999994,\n",
       " 467333.09199999936,\n",
       " 467316.75399999943,\n",
       " 467316.6959999994,\n",
       " 467291.0319999994]"
      ]
     },
     "execution_count": 17,
     "metadata": {},
     "output_type": "execute_result"
    }
   ],
   "source": [
    "# Step 3: Remove sellers one by one and compute financial impact\n",
    "profits = []\n",
    "for i in range(100):\n",
    "    removed_seller = sorted_sellers.index[i]\n",
    "    num_orders = order['order_items'].loc[order['order_items']['seller_id']!=removed_seller].groupby('seller_id')['order_id'].nunique()\n",
    "    revenue = order['order_items'].loc[order['order_items']['seller_id']!=removed_seller].groupby('seller_id')['price'].sum()\n",
    "    freight_cost = order['order_items'].loc[order['order_items']['seller_id']!=removed_seller].groupby('seller_id')['freight_value'].sum()\n",
    "    sales_by_seller = pd.concat([num_orders, revenue, freight_cost], axis=1)\n",
    "    sales_by_seller.columns = ['num_orders', 'revenue', 'freight_cost']\n",
    "    profit_by_seller = sales_by_seller['revenue'] - (sales_by_seller['revenue'] * 0.8 + sales_by_seller['freight_cost'])\n",
    "    profits.append(profit_by_seller.sum())\n",
    "\n",
    "# Step 4: Find optimal number of sellers to remove\n",
    "optimal_num_sellers = np.argmax(profits) + 1 # add 1 because Python is 0-indexed\n",
    "profits"
   ]
  },
  {
   "attachments": {},
   "cell_type": "markdown",
   "metadata": {},
   "source": [
    "## 3. Investigate other Approaches 🕵️\n",
    "*(optional)*"
   ]
  },
  {
   "attachments": {},
   "cell_type": "markdown",
   "metadata": {},
   "source": [
    "- Should Olist remove the worst performing products / categories from its marketplace entirely?\n",
    "- Should Olist remove only consistently underperforming sellers, after it has a honeymoon period of few months?\n",
    "- Should Olist restrict seller/customer pairs between certain states to avoid delays?\n",
    "- Should Olist acquire new sellers, with some cost assumptions to be suggested?\n",
    "- ...\n"
   ]
  },
  {
   "attachments": {},
   "cell_type": "markdown",
   "metadata": {},
   "source": [
    "## Your turn!"
   ]
  },
  {
   "attachments": {},
   "cell_type": "markdown",
   "metadata": {},
   "source": [
    "🧺 Keep this notebook tidy! \n",
    "\n",
    "🗣 📊 You will present your insights to your favorite TA at the end of this `Communicate` unit 💪"
   ]
  }
 ],
 "metadata": {
  "kernelspec": {
   "display_name": "Python 3",
   "language": "python",
   "name": "python3"
  },
  "language_info": {
   "codemirror_mode": {
    "name": "ipython",
    "version": 3
   },
   "file_extension": ".py",
   "mimetype": "text/x-python",
   "name": "python",
   "nbconvert_exporter": "python",
   "pygments_lexer": "ipython3",
   "version": "3.10.6"
  }
 },
 "nbformat": 4,
 "nbformat_minor": 4
}
